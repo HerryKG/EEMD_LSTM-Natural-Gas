{
 "cells": [
  {
   "cell_type": "code",
   "execution_count": null,
   "id": "2715ee6e",
   "metadata": {},
   "outputs": [],
   "source": [
    "# Using tensorflow python 37 Environment"
   ]
  },
  {
   "cell_type": "code",
   "execution_count": 53,
   "id": "1ee32994",
   "metadata": {},
   "outputs": [],
   "source": [
    "import logging\n",
    "from typing import Optional, Tuple\n",
    "\n",
    "import numpy as np\n",
    "import pandas as pd\n",
    "from scipy.interpolate import interp1d\n",
    "\n",
    "from PyEMD.splines import akima, cubic_spline_3pts\n",
    "from PyEMD.utils import get_timeline\n",
    "\n",
    "import pylab as plt\n",
    "import warnings\n",
    "import time\n",
    "from pandas import concat\n",
    "from pandas import DataFrame\n",
    "from numpy import array"
   ]
  },
  {
   "cell_type": "code",
   "execution_count": 54,
   "id": "155cf043",
   "metadata": {},
   "outputs": [],
   "source": [
    "from math import sqrt\n",
    "\n",
    "from sklearn.preprocessing import StandardScaler, MinMaxScaler\n",
    "from sklearn.metrics import mean_squared_error as MSE\n",
    "from sklearn.metrics import mean_squared_error\n",
    "from sklearn import metrics\n",
    "from tensorflow.keras.models import Sequential\n",
    "from tensorflow.keras.layers import Dense, Bidirectional, TimeDistributed\n",
    "from tensorflow.keras.layers import LSTM\n",
    "from tensorflow.keras.layers import Activation, Dropout, Flatten, Conv1D, MaxPooling1D, ConvLSTM2D\n",
    "from tensorflow.keras.wrappers.scikit_learn import KerasRegressor\n",
    "import warnings\n",
    "import seaborn as sns\n",
    "warnings.filterwarnings(\"ignore\")"
   ]
  },
  {
   "cell_type": "code",
   "execution_count": null,
   "id": "bd4f73d1",
   "metadata": {},
   "outputs": [],
   "source": [
    "# 01. Upload Data"
   ]
  },
  {
   "cell_type": "code",
   "execution_count": 55,
   "id": "9a888b3c",
   "metadata": {},
   "outputs": [
    {
     "data": {
      "text/html": [
       "<div>\n",
       "<style scoped>\n",
       "    .dataframe tbody tr th:only-of-type {\n",
       "        vertical-align: middle;\n",
       "    }\n",
       "\n",
       "    .dataframe tbody tr th {\n",
       "        vertical-align: top;\n",
       "    }\n",
       "\n",
       "    .dataframe thead th {\n",
       "        text-align: right;\n",
       "    }\n",
       "</style>\n",
       "<table border=\"1\" class=\"dataframe\">\n",
       "  <thead>\n",
       "    <tr style=\"text-align: right;\">\n",
       "      <th></th>\n",
       "      <th>Close</th>\n",
       "    </tr>\n",
       "    <tr>\n",
       "      <th>Date</th>\n",
       "      <th></th>\n",
       "    </tr>\n",
       "  </thead>\n",
       "  <tbody>\n",
       "    <tr>\n",
       "      <th>2000-01-04</th>\n",
       "      <td>24.39</td>\n",
       "    </tr>\n",
       "    <tr>\n",
       "      <th>2000-01-05</th>\n",
       "      <td>23.73</td>\n",
       "    </tr>\n",
       "    <tr>\n",
       "      <th>2000-01-06</th>\n",
       "      <td>23.62</td>\n",
       "    </tr>\n",
       "    <tr>\n",
       "      <th>2000-01-07</th>\n",
       "      <td>23.09</td>\n",
       "    </tr>\n",
       "    <tr>\n",
       "      <th>2000-01-10</th>\n",
       "      <td>23.73</td>\n",
       "    </tr>\n",
       "  </tbody>\n",
       "</table>\n",
       "</div>"
      ],
      "text/plain": [
       "            Close\n",
       "Date             \n",
       "2000-01-04  24.39\n",
       "2000-01-05  23.73\n",
       "2000-01-06  23.62\n",
       "2000-01-07  23.09\n",
       "2000-01-10  23.73"
      ]
     },
     "execution_count": 55,
     "metadata": {},
     "output_type": "execute_result"
    }
   ],
   "source": [
    "df_Gas = pd.read_csv('Gas_close.csv')\n",
    "df_Gas.set_index(pd.DatetimeIndex(df_Gas['Date']), inplace=True)\n",
    "df_Gas.drop(['Date'],axis=1,inplace=True)\n",
    "df_Gas.head()"
   ]
  },
  {
   "cell_type": "code",
   "execution_count": null,
   "id": "21ef494e",
   "metadata": {},
   "outputs": [],
   "source": [
    "# 02. Knowing How Much IMF in each Date"
   ]
  },
  {
   "cell_type": "code",
   "execution_count": null,
   "id": "9e02c233",
   "metadata": {},
   "outputs": [],
   "source": [
    "# Upload Data Jumlah Kol"
   ]
  },
  {
   "cell_type": "code",
   "execution_count": 56,
   "id": "5a693374",
   "metadata": {},
   "outputs": [
    {
     "data": {
      "text/html": [
       "<div>\n",
       "<style scoped>\n",
       "    .dataframe tbody tr th:only-of-type {\n",
       "        vertical-align: middle;\n",
       "    }\n",
       "\n",
       "    .dataframe tbody tr th {\n",
       "        vertical-align: top;\n",
       "    }\n",
       "\n",
       "    .dataframe thead th {\n",
       "        text-align: right;\n",
       "    }\n",
       "</style>\n",
       "<table border=\"1\" class=\"dataframe\">\n",
       "  <thead>\n",
       "    <tr style=\"text-align: right;\">\n",
       "      <th></th>\n",
       "      <th>Jum_Kol</th>\n",
       "    </tr>\n",
       "    <tr>\n",
       "      <th>Date</th>\n",
       "      <th></th>\n",
       "    </tr>\n",
       "  </thead>\n",
       "  <tbody>\n",
       "    <tr>\n",
       "      <th>2018-11-27</th>\n",
       "      <td>10</td>\n",
       "    </tr>\n",
       "    <tr>\n",
       "      <th>2018-11-28</th>\n",
       "      <td>11</td>\n",
       "    </tr>\n",
       "    <tr>\n",
       "      <th>2018-11-29</th>\n",
       "      <td>10</td>\n",
       "    </tr>\n",
       "    <tr>\n",
       "      <th>2018-11-30</th>\n",
       "      <td>11</td>\n",
       "    </tr>\n",
       "    <tr>\n",
       "      <th>2018-12-03</th>\n",
       "      <td>11</td>\n",
       "    </tr>\n",
       "  </tbody>\n",
       "</table>\n",
       "</div>"
      ],
      "text/plain": [
       "            Jum_Kol\n",
       "Date               \n",
       "2018-11-27       10\n",
       "2018-11-28       11\n",
       "2018-11-29       10\n",
       "2018-11-30       11\n",
       "2018-12-03       11"
      ]
     },
     "execution_count": 56,
     "metadata": {},
     "output_type": "execute_result"
    }
   ],
   "source": [
    "df_Kol = pd.read_csv('Jumlah_IMF_EEMD.csv')\n",
    "df_Kol.set_index(pd.DatetimeIndex(df_Kol['Date']), inplace=True)\n",
    "df_Kol.drop(['Date'],axis=1,inplace=True)\n",
    "df_Kol.head()"
   ]
  },
  {
   "cell_type": "code",
   "execution_count": null,
   "id": "ba437d18",
   "metadata": {},
   "outputs": [],
   "source": [
    "# 03. Univariate LSTM"
   ]
  },
  {
   "cell_type": "code",
   "execution_count": null,
   "id": "b06e2c3c",
   "metadata": {},
   "outputs": [],
   "source": [
    "# Prediksi data IMF 1 semua"
   ]
  },
  {
   "cell_type": "code",
   "execution_count": 57,
   "id": "424e3a24",
   "metadata": {},
   "outputs": [],
   "source": [
    "def train_test_split(data, n_test):\n",
    "    return data[:-n_test], data[-n_test:]"
   ]
  },
  {
   "cell_type": "code",
   "execution_count": 58,
   "id": "77d9a928",
   "metadata": {},
   "outputs": [],
   "source": [
    "def split_sequence(sequence, n_steps):\n",
    "    X, y = list(), list()\n",
    "    for i in range(len(sequence)):\n",
    "        # find the end of this pattern\n",
    "        end_ix = i + n_steps\n",
    "        # check if we are beyond the sequence\n",
    "        if end_ix > len(sequence)-1:\n",
    "            break\n",
    "        # gather input and output parts of the pattern\n",
    "        seq_x, seq_y = sequence[i:end_ix], sequence[end_ix]\n",
    "        X.append(seq_x)\n",
    "        y.append(seq_y)\n",
    "    return np.array(X), np.array(y)"
   ]
  },
  {
   "cell_type": "code",
   "execution_count": 59,
   "id": "355abfa7",
   "metadata": {},
   "outputs": [],
   "source": [
    "def series_to_supervised(data, n_in, n_out=30):\n",
    "    df = DataFrame(data)\n",
    "    cols = list()\n",
    "    # input sequence (t-n, ... t-1)\n",
    "    for i in range(n_in, 0, -1):\n",
    "        cols.append(df.shift(i))\n",
    "    # forecast sequence (t, t+1, ... t+n)\n",
    "    for i in range(0, n_out):\n",
    "        cols.append(df.shift(-i))\n",
    "    # put it all together\n",
    "    agg = concat(cols, axis=1)\n",
    "    # drop rows with NaN values\n",
    "    agg.dropna(inplace=True)\n",
    "    return agg.values"
   ]
  },
  {
   "cell_type": "code",
   "execution_count": 60,
   "id": "d30499e9",
   "metadata": {},
   "outputs": [],
   "source": [
    "# 5. Difference Dataset\n",
    "def difference(data, interval):\n",
    "    return [data[i] - data[i - interval] for i in range(interval, len(data))]"
   ]
  },
  {
   "cell_type": "code",
   "execution_count": 61,
   "id": "edd1d179",
   "metadata": {},
   "outputs": [],
   "source": [
    "# Untuk Horizon lebih dari satu\n",
    "def split_sequence2(sequence, n_steps_in, n_steps_out):\n",
    "    X, y = list(), list()\n",
    "    for i in range(len(sequence)):\n",
    "        # find the end of this pattern\n",
    "        end_ix = i + n_steps_in\n",
    "        out_end_ix = end_ix + n_steps_out\n",
    "        # check if we are beyond the sequence\n",
    "        if out_end_ix > len(sequence):\n",
    "            break\n",
    "        # gather input and output parts of the pattern\n",
    "        seq_x, seq_y = sequence[i:end_ix], sequence[end_ix:out_end_ix]\n",
    "        X.append(seq_x)\n",
    "        y.append(seq_y)\n",
    "    return np.array(X), np.array(y)"
   ]
  },
  {
   "cell_type": "code",
   "execution_count": 8,
   "id": "f53b3f33",
   "metadata": {},
   "outputs": [],
   "source": [
    "# Testing 2 Hor :"
   ]
  },
  {
   "cell_type": "code",
   "execution_count": 62,
   "id": "806c4caf",
   "metadata": {},
   "outputs": [],
   "source": [
    "lim = 900\n",
    "iIMF = 1 # Letak IMF yang diambil\n",
    "n_test = 30 # horizon = 2\n",
    "pred_iIMF = []"
   ]
  },
  {
   "cell_type": "code",
   "execution_count": 63,
   "id": "d8639bcf",
   "metadata": {},
   "outputs": [],
   "source": [
    "pred_all = []\n",
    "n_features = 1 # klo horizon ini tetap satu saja"
   ]
  },
  {
   "cell_type": "code",
   "execution_count": 64,
   "id": "04a61309",
   "metadata": {},
   "outputs": [],
   "source": [
    "# Parameter and Define LSTM Model \n",
    "n_steps = 50 # Dari 50, 10 lebih baik\n",
    "n_input = 50\n",
    "n_steps_out = 30\n",
    "n_nodes = 50 # Dari 70, kayaknya bagusnya 10\n",
    "n_epochs = 100 # Dari 50\n",
    "n_batch = 100\n",
    "n_diff = 0 # Diff dirubah ke 1"
   ]
  },
  {
   "cell_type": "code",
   "execution_count": null,
   "id": "5fe51ac8",
   "metadata": {},
   "outputs": [],
   "source": []
  },
  {
   "cell_type": "code",
   "execution_count": null,
   "id": "a0c12ea8",
   "metadata": {},
   "outputs": [],
   "source": [
    "# Ini Proses Sekaligus semua IMF"
   ]
  },
  {
   "cell_type": "code",
   "execution_count": 65,
   "id": "4d32bd14",
   "metadata": {},
   "outputs": [
    {
     "name": "stdout",
     "output_type": "stream",
     "text": [
      "WARNING:tensorflow:5 out of the last 5 calls to <function Model.make_predict_function.<locals>.predict_function at 0x0000020B2D98EC18> triggered tf.function retracing. Tracing is expensive and the excessive number of tracings could be due to (1) creating @tf.function repeatedly in a loop, (2) passing tensors with different shapes, (3) passing Python objects instead of tensors. For (1), please define your @tf.function outside of the loop. For (2), @tf.function has reduce_retracing=True option that can avoid unnecessary retracing. For (3), please refer to https://www.tensorflow.org/guide/function#controlling_retracing and https://www.tensorflow.org/api_docs/python/tf/function for  more details.\n",
      "WARNING:tensorflow:6 out of the last 6 calls to <function Model.make_predict_function.<locals>.predict_function at 0x0000020B33CC7CA8> triggered tf.function retracing. Tracing is expensive and the excessive number of tracings could be due to (1) creating @tf.function repeatedly in a loop, (2) passing tensors with different shapes, (3) passing Python objects instead of tensors. For (1), please define your @tf.function outside of the loop. For (2), @tf.function has reduce_retracing=True option that can avoid unnecessary retracing. For (3), please refer to https://www.tensorflow.org/guide/function#controlling_retracing and https://www.tensorflow.org/api_docs/python/tf/function for  more details.\n",
      " > proses ke 30\n",
      " > proses ke 60\n",
      " > proses ke 90\n",
      " > proses ke 120\n",
      "it took:  9394590.631008148\n"
     ]
    },
    {
     "data": {
      "text/plain": [
       "[-88.80351603031158,\n",
       " 14.858022451400757,\n",
       " 107.9429243505001,\n",
       " -130.410226136446,\n",
       " 47.99008631706238,\n",
       " 77.87670770287514,\n",
       " 93.50774395465851,\n",
       " 106.72164857387543,\n",
       " 53.0276643037796,\n",
       " 5.643468976020813,\n",
       " 75.06029972434044,\n",
       " 92.1914287507534,\n",
       " 78.3440934419632,\n",
       " -84.34877854585648,\n",
       " 26.63776820898056,\n",
       " 37.046310901641846,\n",
       " 101.43027806282043,\n",
       " 145.69525983929634,\n",
       " 45.23157811164856,\n",
       " -20.24144172668457,\n",
       " 117.24974718689919,\n",
       " -18.990518152713776,\n",
       " 38.957644551992416,\n",
       " 31.97596150636673,\n",
       " 28.481517642736435,\n",
       " 51.95405727624893,\n",
       " 15.95708253979683,\n",
       " 166.2665628194809,\n",
       " 114.44882154464722,\n",
       " 145.5524840950966,\n",
       " 61.41214461624622,\n",
       " 60.77880221605301,\n",
       " 60.88410210609436,\n",
       " 61.44996263086796,\n",
       " 61.311752900481224,\n",
       " 62.19717100262642,\n",
       " 60.81135085225105,\n",
       " 61.16778714954853,\n",
       " 60.87514674663544,\n",
       " 61.347888737916946,\n",
       " 61.86378040909767,\n",
       " 60.5234339684248,\n",
       " 61.23839683830738,\n",
       " 61.61733515560627,\n",
       " 60.49123264849186,\n",
       " 60.20795100927353,\n",
       " 60.72142006456852,\n",
       " 60.842030957341194,\n",
       " 60.551159113645554,\n",
       " 61.50002431869507,\n",
       " 61.42875222861767,\n",
       " 60.61700111627579,\n",
       " 60.838487699627876,\n",
       " 60.62248073518276,\n",
       " 61.575200110673904,\n",
       " 62.01189635694027,\n",
       " 61.31053093075752,\n",
       " 62.434819266200066,\n",
       " 61.64148433506489,\n",
       " 60.7043467015028,\n",
       " 64.9625897705555,\n",
       " 65.32516130805016,\n",
       " 65.3751450330019,\n",
       " 64.65822623670101,\n",
       " 65.29901932179928,\n",
       " 65.55226196348667,\n",
       " 65.41313581168652,\n",
       " 64.73653414845467,\n",
       " 65.04148085415363,\n",
       " 64.56729754805565,\n",
       " 65.24215424060822,\n",
       " 64.81373153626919,\n",
       " 64.96006122231483,\n",
       " 65.46658658981323,\n",
       " 65.58459344506264,\n",
       " 65.2352699637413,\n",
       " 65.29255716502666,\n",
       " 65.12617452442646,\n",
       " 65.31103464961052,\n",
       " 64.9580502808094,\n",
       " 65.34999504685402,\n",
       " 65.20571060478687,\n",
       " 65.47560167312622,\n",
       " 65.16112093627453,\n",
       " 65.55076766014099,\n",
       " 64.74739746749401,\n",
       " 65.70944371819496,\n",
       " 65.42034611105919,\n",
       " 65.57654631137848,\n",
       " 65.23365660011768,\n",
       " 71.22801218926907,\n",
       " 70.60629357397556,\n",
       " 70.30865736305714,\n",
       " 71.17917235195637,\n",
       " 69.1509121954441,\n",
       " 70.22855803370476,\n",
       " 68.82219173014164,\n",
       " 69.74768701195717,\n",
       " 69.37497361004353,\n",
       " 69.93755735456944,\n",
       " 70.97906868904829,\n",
       " 69.98999688029289,\n",
       " 69.82766373455524,\n",
       " 70.01358565688133,\n",
       " 70.37810052931309,\n",
       " 71.87423199415207,\n",
       " 69.64237368106842,\n",
       " 70.93295209109783,\n",
       " 69.28061055392027,\n",
       " 70.5248495042324,\n",
       " 70.87415158003569,\n",
       " 69.22902716696262,\n",
       " 70.10396461188793,\n",
       " 71.0933185517788,\n",
       " 71.33365031331778,\n",
       " 71.88440737128258,\n",
       " 70.13456221669912,\n",
       " 69.3216257840395,\n",
       " 69.11064709722996,\n",
       " 70.2155390009284]"
      ]
     },
     "execution_count": 65,
     "metadata": {},
     "output_type": "execute_result"
    }
   ],
   "source": [
    "start = time.time()\n",
    "lim = 900\n",
    "n_test = 30 # horizon = 2\n",
    "# cfg = [24, 500, 100, 100] # [24, 500, 100, 100]\n",
    "pred = []\n",
    "\n",
    "for i in range (1, 121):\n",
    "    if i % 30 != 0:\n",
    "        continue\n",
    "    df_coba2 = pd.read_csv(f'EEMD_-{lim-i}.csv')\n",
    "    df_coba2.set_index(pd.DatetimeIndex(df_coba2['Date']), inplace=True)\n",
    "    df_coba2.drop(['Date'],axis=1,inplace=True)\n",
    "    bar, kol = df_coba2.shape\n",
    "    all_pred = np.zeros(30) # dua elemen karena horizon 2\n",
    "    \n",
    "    for j in range (0, kol):\n",
    "        imfs_x = df_coba2[f'{j+1}'].values\n",
    "        train, test = train_test_split(imfs_x, n_test)\n",
    "        if n_diff > 0:\n",
    "            train = difference(train, n_diff)\n",
    "        \n",
    "        data = series_to_supervised(train, n_input)\n",
    "        train_x, train_y = data[:, :-30], data[:, -30:]\n",
    "        train_x = train_x.reshape((train_x.shape[0], train_x.shape[1], 1))\n",
    "        \n",
    "        model = Sequential()\n",
    "        model.add(LSTM(n_nodes, activation='relu', input_shape=(n_input, 1)))\n",
    "        model.add(Dense(n_nodes, activation='relu'))\n",
    "        model.add(Dense(30))\n",
    "        model.compile(loss='mse', optimizer='adam')\n",
    "        \n",
    "        model.fit(train_x, train_y, epochs=n_epochs, batch_size=n_batch, verbose=0)\n",
    "                               \n",
    "        x_input = train[-n_steps:].reshape((1, n_steps))\n",
    "        yhat = model.predict(x_input, verbose=0)\n",
    "        \n",
    "        for k in range(0, n_steps_out):\n",
    "            all_pred[k] += list(yhat[0])[k]\n",
    "                   \n",
    "    for l in range(0, n_steps_out):\n",
    "        pred.append(all_pred[l])\n",
    "    print(' > proses ke %i' % i)\n",
    "\n",
    "print('it took: ', (time.time()-start)*1000)\n",
    "pred  "
   ]
  },
  {
   "cell_type": "code",
   "execution_count": 50,
   "id": "1d78568d",
   "metadata": {},
   "outputs": [
    {
     "data": {
      "text/plain": [
       "<keras.callbacks.History at 0x20b284b7f48>"
      ]
     },
     "execution_count": 50,
     "metadata": {},
     "output_type": "execute_result"
    }
   ],
   "source": [
    "'''lim = 920\n",
    "i = 30\n",
    "j =0\n",
    "\n",
    "df_coba2 = pd.read_csv(f'EMD_-{lim-i}.csv')\n",
    "df_coba2.set_index(pd.DatetimeIndex(df_coba2['Date']), inplace=True)\n",
    "df_coba2.drop(['Date'],axis=1,inplace=True)\n",
    "bar, kol = df_coba2.shape\n",
    "all_pred = np.zeros(30) # dua elemen karena horizon 2\n",
    "\n",
    "imfs_x = df_coba2[f'{j+1}'].values\n",
    "train, test = train_test_split(imfs_x, n_test)\n",
    "if n_diff > 0:\n",
    "    train = difference(train, n_diff)\n",
    "        \n",
    "data = series_to_supervised(train, n_input)\n",
    "train_x, train_y = data[:, :-30], data[:, -30:]\n",
    "train_x = train_x.reshape((train_x.shape[0], train_x.shape[1], 1))\n",
    "        \n",
    "model = Sequential()\n",
    "model.add(LSTM(n_nodes, activation='relu', input_shape=(n_input, 1)))\n",
    "model.add(Dense(n_nodes, activation='relu'))\n",
    "model.add(Dense(30))\n",
    "model.compile(loss='mse', optimizer='adam')\n",
    "model.fit(train_x, train_y, epochs=n_epochs, batch_size=n_batch, verbose=0)'''"
   ]
  },
  {
   "cell_type": "code",
   "execution_count": 51,
   "id": "3f47b365",
   "metadata": {},
   "outputs": [],
   "source": [
    "x_input = train[-n_steps:].reshape((1, n_steps))\n",
    "# x_input = array(history[-n_input:]).reshape(1, n_input)\n",
    "# forecast\n",
    "yhat = model.predict(x_input, verbose=0)"
   ]
  },
  {
   "cell_type": "code",
   "execution_count": 52,
   "id": "ccbc1de1",
   "metadata": {},
   "outputs": [
    {
     "data": {
      "text/plain": [
       "array([[-0.3900623 , -0.06710275,  0.07675873,  0.06452085,  0.03760254,\n",
       "         0.0266528 , -0.0317301 , -0.05068859, -0.00640512,  0.03515866,\n",
       "        -0.03019301, -0.01423518,  0.06532157,  0.03297314, -0.03280794,\n",
       "        -0.01462862,  0.01442577,  0.02967494, -0.0138556 ,  0.0058794 ,\n",
       "        -0.00891548, -0.0031378 ,  0.00820029,  0.00740119, -0.02397521,\n",
       "         0.00289612, -0.0037009 ,  0.03252812, -0.00307405,  0.02634454]],\n",
       "      dtype=float32)"
      ]
     },
     "execution_count": 52,
     "metadata": {},
     "output_type": "execute_result"
    }
   ],
   "source": [
    "yhat"
   ]
  },
  {
   "cell_type": "code",
   "execution_count": null,
   "id": "f45465f3",
   "metadata": {},
   "outputs": [],
   "source": []
  },
  {
   "cell_type": "code",
   "execution_count": null,
   "id": "6038becd",
   "metadata": {},
   "outputs": [],
   "source": [
    "# Ini Yang sekaligus IMF"
   ]
  },
  {
   "cell_type": "code",
   "execution_count": 66,
   "id": "e7e494cc",
   "metadata": {},
   "outputs": [
    {
     "data": {
      "text/plain": [
       "120"
      ]
     },
     "execution_count": 66,
     "metadata": {},
     "output_type": "execute_result"
    }
   ],
   "source": [
    "# INGAT NEXT adalah\n",
    "# Pengambilan s/d 121 - 151 ; len harusnya 5, 10 atau 15; total sampai 246 - 251, s/d Proses 50\n",
    "# Proses 24 ke 30 \n",
    "for k in range(0, len(pred)):\n",
    "    pred_all.append(pred[k])\n",
    "len(pred_all)"
   ]
  },
  {
   "cell_type": "code",
   "execution_count": 15,
   "id": "aa790b53",
   "metadata": {},
   "outputs": [],
   "source": [
    "# Simpan File tiap 50\n",
    "lim = 900\n",
    "i = 120\n",
    "df_coba3 = pd.DataFrame(df_Gas.index[-900:-780].values, columns=['Date'])\n",
    "df_coba3['pred'] = pred_all\n",
    "df_coba3.set_index(pd.DatetimeIndex(df_coba3['Date']), inplace=True)\n",
    "df_coba3.drop(['Date'],axis=1,inplace=True)\n",
    "df_coba3.to_csv(f'Pred_LSTM30_EEMD-{lim}-{lim-i}.csv',index=True)\n",
    "df_coba3.to_excel(f'Pred_LSTM30_EEMD-{lim}-{lim-i}.xlsx',sheet_name='Sheet1',index=True)"
   ]
  },
  {
   "cell_type": "code",
   "execution_count": null,
   "id": "99dbcbd9",
   "metadata": {},
   "outputs": [],
   "source": []
  },
  {
   "cell_type": "code",
   "execution_count": null,
   "id": "b0cb92a7",
   "metadata": {},
   "outputs": [],
   "source": [
    "# 04. Hitung Error Measurement"
   ]
  },
  {
   "cell_type": "code",
   "execution_count": 68,
   "id": "653f952a",
   "metadata": {},
   "outputs": [],
   "source": [
    "def timeseries_evaluation_metrics_func(y_true, y_pred):    \n",
    "    def mean_absolute_percentage_error(y_true, y_pred):\n",
    "        y_true, y_pred = np.array(y_true), np.array(y_pred)\n",
    "        return np.mean(np.abs((y_true - y_pred) / y_true)) * 100\n",
    "    print('Evaluation metric results:-')\n",
    "    print(f'MSE is : {metrics.mean_squared_error(y_true, y_pred)}')\n",
    "    print(f'MAE is : {metrics.mean_absolute_error(y_true, y_pred)}')\n",
    "    print(f'RMSE is : {np.sqrt(metrics.mean_squared_error(y_true, y_pred))}')\n",
    "    print(f'MAPE is : {mean_absolute_percentage_error(y_true, y_pred)}')\n",
    "    print(f'R2 is : {metrics.r2_score(y_true, y_pred)}',end='\\n\\n')"
   ]
  },
  {
   "cell_type": "code",
   "execution_count": null,
   "id": "583fbc93",
   "metadata": {},
   "outputs": [],
   "source": []
  }
 ],
 "metadata": {
  "kernelspec": {
   "display_name": "Python 3 (ipykernel)",
   "language": "python",
   "name": "python3"
  },
  "language_info": {
   "codemirror_mode": {
    "name": "ipython",
    "version": 3
   },
   "file_extension": ".py",
   "mimetype": "text/x-python",
   "name": "python",
   "nbconvert_exporter": "python",
   "pygments_lexer": "ipython3",
   "version": "3.7.16"
  }
 },
 "nbformat": 4,
 "nbformat_minor": 5
}
